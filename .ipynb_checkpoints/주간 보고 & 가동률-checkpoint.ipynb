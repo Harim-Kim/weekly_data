{
 "cells": [
  {
   "cell_type": "code",
   "execution_count": 1,
   "metadata": {},
   "outputs": [],
   "source": [
    "import pandas as pd\n",
    "import numpy as np\n",
    "import datetime\n",
    "from time import gmtime, strftime\n",
    "import mariadb\n",
    "from sqlalchemy import create_engine\n",
    "import pymysql"
   ]
  },
  {
   "cell_type": "code",
   "execution_count": 2,
   "metadata": {},
   "outputs": [],
   "source": [
    "def date_to_strdate(date):\n",
    "    return     date.strftime('%Y-%m-%d %H:%M:%S')"
   ]
  },
  {
   "cell_type": "code",
   "execution_count": 3,
   "metadata": {},
   "outputs": [],
   "source": [
    "pan_conn = pymysql.connect(host='ec1-it-prd-wibledrive-rds.clv6o5ibky6t.eu-central-1.rds.amazonaws.com', user='devops', password='Maas1223@' , charset='utf8')"
   ]
  },
  {
   "cell_type": "code",
   "execution_count": 4,
   "metadata": {},
   "outputs": [],
   "source": [
    "core_conn = pymysql.connect(host='ec1-it-prd-core-rds.clv6o5ibky6t.eu-central-1.rds.amazonaws.com', user='devops', password='Maas1223@' , charset='utf8')"
   ]
  },
  {
   "cell_type": "code",
   "execution_count": 5,
   "metadata": {},
   "outputs": [],
   "source": [
    "# 월요일 00시에 돌아간다는 가정. 아무튼 월요일에 돌아야함.\n",
    "today = datetime.date.today() \n",
    "last_monday = today - datetime.timedelta(days=today.weekday()+7)\n",
    "last_sunday = today - datetime.timedelta(days=today.weekday()+1)\n"
   ]
  },
  {
   "cell_type": "code",
   "execution_count": 6,
   "metadata": {},
   "outputs": [
    {
     "name": "stdout",
     "output_type": "stream",
     "text": [
      "data starting on: 2021-12-13 00:00:00\n"
     ]
    }
   ],
   "source": [
    "start_date = last_monday.strftime(\"%Y-%m-%d %H:%M:%S\")\n",
    "print(\"data starting on:\",start_date)"
   ]
  },
  {
   "cell_type": "code",
   "execution_count": 7,
   "metadata": {},
   "outputs": [
    {
     "name": "stdout",
     "output_type": "stream",
     "text": [
      "data end on: 2021-12-19 23:59:59\n"
     ]
    }
   ],
   "source": [
    "end_date = last_sunday.strftime(\"%Y-%m-%d\")\n",
    "end_date = end_date[:11]+' 23:59:59'\n",
    "print(\"data end on:\",end_date)"
   ]
  },
  {
   "cell_type": "markdown",
   "metadata": {},
   "source": [
    "# table 미리 불러오기 with pandas"
   ]
  },
  {
   "cell_type": "code",
   "execution_count": 8,
   "metadata": {},
   "outputs": [
    {
     "name": "stdout",
     "output_type": "stream",
     "text": [
      "get data from DB\n",
      "SELECT * FROM maas_db_reservation.reservations\n"
     ]
    }
   ],
   "source": [
    "print(\"get data from DB\")\n",
    "#전체 예약 정보\n",
    "query = 'SELECT * FROM maas_db_reservation.reservations'\n",
    "print(query)\n",
    "reservations = pd.read_sql_query(query,core_conn)\n"
   ]
  },
  {
   "cell_type": "code",
   "execution_count": 9,
   "metadata": {},
   "outputs": [
    {
     "name": "stdout",
     "output_type": "stream",
     "text": [
      "SELECT * FROM maasfms.reservation_short\n"
     ]
    }
   ],
   "source": [
    "query = 'SELECT * FROM maasfms.reservation_short'\n",
    "print(query)\n",
    "reservation_short = pd.read_sql_query(query,pan_conn)"
   ]
  },
  {
   "cell_type": "code",
   "execution_count": 10,
   "metadata": {},
   "outputs": [
    {
     "name": "stdout",
     "output_type": "stream",
     "text": [
      "select p.reservation_id, (case when p.pg_tid is null then 'Offline' else 'Online' end) on_off from maasfms.payment p left join maasfms.payment_history ph on p.reservation_id = ph.reservation_id left join maasfms.reservation_short rs on p.reservation_id = rs.reservation_id where p.deleted_at is null and p.reservation_count between 0 and 1\n"
     ]
    }
   ],
   "source": [
    "#mp 테이블\n",
    "query = \"select p.reservation_id, (case when p.pg_tid is null then 'Offline' else 'Online' end) on_off from maasfms.payment p left join maasfms.payment_history ph on p.reservation_id = ph.reservation_id left join maasfms.reservation_short rs on p.reservation_id = rs.reservation_id where p.deleted_at is null and p.reservation_count between 0 and 1\"\n",
    "print(query)\n",
    "\n",
    "mp = pd.read_sql_query(query,pan_conn)\n"
   ]
  },
  {
   "cell_type": "code",
   "execution_count": 11,
   "metadata": {},
   "outputs": [
    {
     "name": "stdout",
     "output_type": "stream",
     "text": [
      "SELECT * FROM maas_db_reservation.rental_vehicles where deleted_at is null\n"
     ]
    }
   ],
   "source": [
    "#전체 rental vehicle 테이블\n",
    "query = 'SELECT * FROM maas_db_reservation.rental_vehicles where deleted_at is null'\n",
    "print(query)\n",
    "\n",
    "rental_vehicles = pd.read_sql_query(query,core_conn)\n"
   ]
  },
  {
   "cell_type": "code",
   "execution_count": 12,
   "metadata": {},
   "outputs": [
    {
     "name": "stdout",
     "output_type": "stream",
     "text": [
      "select * from maasfms.location where name not in ('Songdong-Gu', 'Seoul','KMIT','Test','이종원','KME')\n",
      "check location names in the system: ['KMG TOP s.r.o.' 'KIA Bratislava s.r.o' 'AUTO-VALAS s.r.o.'\n",
      " 'Slovakia Auto, s.r.o.' 'Livorno' 'AUTOMOBILS A.R. - Sagrada Familia'\n",
      " 'AUTOMOBILS A.R. - Zona Franca' 'AUTOMOBILS A.R. - Maquinista'\n",
      " 'AUTOMOBILS A.R. - Sant Boi' 'ELECKAI MOTOR 3.0, S.L.' 'Tavernerio (CO)'\n",
      " 'ELITE MOTORS - Kia Vénissieux' 'AMK - Kia Perpignan'\n",
      " 'Milano V.Gallarate (MI)' 'San Salvo (CH)' 'AMK 31 - Kia Toulouse'\n",
      " 'Grottammare' 'Rome' 'Solagna (VI)' 'EDENAUTO - Kia Pau' 'Sassari'\n",
      " 'Pian Camuno' 'Riviera Car Center - Kia Le Cannet'\n",
      " 'CAR Avenue - Kia Metz' 'Arcidosso' 'Milano V.Cassinis (MI)' 'Terni'\n",
      " 'Olbia' 'San Giovanni Teatino (CH)' 'Daejeon' 'CAR Avenue - Kia Mulhouse'\n",
      " 'Cantù (CO)' 'Lecce' 'Induno Olona (VA)'\n",
      " \"KOTE AUTO - Kia Villeneuve d'Ascq\" 'CARSERWIS' 'SZIC' 'KORCZYK PLUS'\n",
      " 'Camerano (AN)' 'Saronno (VA)' 'Rieti' 'Foggia' 'Modugno (BA)'\n",
      " 'Lurate Caccivio (CO)' 'AUTOMOBILS A.R. - Urgel']\n",
      "\n"
     ]
    }
   ],
   "source": [
    "query = \"select * from maasfms.location where name not in ('Songdong-Gu', 'Seoul','KMIT','Test','이종원','KME')\"\n",
    "print(query)\n",
    "\n",
    "location = pd.read_sql_query(query,pan_conn)\n",
    "print(\"check location names in the system:\",location.name.unique())\n",
    "print()"
   ]
  },
  {
   "cell_type": "code",
   "execution_count": 13,
   "metadata": {},
   "outputs": [],
   "source": [
    "# id컬럼명 수정\n",
    "location[\"pickup_station_id\"] = location[\"ID\"]"
   ]
  },
  {
   "cell_type": "code",
   "execution_count": 14,
   "metadata": {},
   "outputs": [
    {
     "name": "stdout",
     "output_type": "stream",
     "text": [
      "SELECT * FROM maas_db_vehicle.vehicles\n"
     ]
    }
   ],
   "source": [
    "#전체 vehicle\n",
    "query = 'SELECT * FROM maas_db_vehicle.vehicles'\n",
    "print(query)\n",
    "vehicles = pd.read_sql_query(query,core_conn)\n",
    "vehicles[\"business_id\"] = vehicles[\"group_id\"]\n"
   ]
  },
  {
   "cell_type": "code",
   "execution_count": 15,
   "metadata": {},
   "outputs": [
    {
     "name": "stdout",
     "output_type": "stream",
     "text": [
      "SELECT * FROM `maas_db_vehicle-model`.vehicle_models \n"
     ]
    }
   ],
   "source": [
    "#전체 vehicle model\n",
    "query = 'SELECT * FROM `maas_db_vehicle-model`.vehicle_models '\n",
    "print(query)\n",
    "vehicle_models = pd.read_sql_query(query,core_conn)\n"
   ]
  },
  {
   "cell_type": "code",
   "execution_count": 16,
   "metadata": {},
   "outputs": [],
   "source": [
    "vehicle_models1 = vehicle_models[vehicle_models[\"is_standard\"]==0]\n"
   ]
  },
  {
   "cell_type": "code",
   "execution_count": 17,
   "metadata": {},
   "outputs": [
    {
     "name": "stdout",
     "output_type": "stream",
     "text": [
      "get standard vehicle model\n"
     ]
    }
   ],
   "source": [
    "# 스탠다드 모델만 가져옴\n",
    "print(\"get standard vehicle model\")\n",
    "vehicle_models2 = vehicle_models[vehicle_models[\"is_standard\"]==1]\n",
    "# vehicle_models2 = vehicle_models2[vehicle_models2[\"deleted_at\"].isna()]\n"
   ]
  },
  {
   "cell_type": "code",
   "execution_count": 18,
   "metadata": {},
   "outputs": [
    {
     "name": "stdout",
     "output_type": "stream",
     "text": [
      "select * from maasfms.chargevehicle where deleted_at is null \n"
     ]
    }
   ],
   "source": [
    "query = \"select * from maasfms.chargevehicle where deleted_at is null \"\n",
    "print(query)\n",
    "chargevehicle = pd.read_sql_query(query, pan_conn)"
   ]
  },
  {
   "cell_type": "code",
   "execution_count": 19,
   "metadata": {},
   "outputs": [
    {
     "name": "stdout",
     "output_type": "stream",
     "text": [
      "select * from maasfms.business where deleted_at is null\n"
     ]
    }
   ],
   "source": [
    "query = \"select * from maasfms.business where deleted_at is null\"\n",
    "print(query)\n",
    "business = pd.read_sql_query(query, pan_conn)\n",
    "business[\"business_id\"] = business[\"id\"]\n"
   ]
  },
  {
   "cell_type": "code",
   "execution_count": 20,
   "metadata": {
    "scrolled": true
   },
   "outputs": [
    {
     "name": "stdout",
     "output_type": "stream",
     "text": [
      "select cv.vehicle_id           from maasfms.chargevehicle cv           join maasfms.charge c on cv.charge_id = c.id          where 1 = 1            and cv.deleted_at is null            and c.deleted_at is null\n"
     ]
    }
   ],
   "source": [
    "query = \"select cv.vehicle_id \\\n",
    "          from maasfms.chargevehicle cv \\\n",
    "          join maasfms.charge c on cv.charge_id = c.id \\\n",
    "         where 1 = 1 \\\n",
    "           and cv.deleted_at is null \\\n",
    "           and c.deleted_at is null\"\n",
    "print(query)\n",
    "vehicle_charge = pd.read_sql_query(query, pan_conn)\n"
   ]
  },
  {
   "cell_type": "code",
   "execution_count": 21,
   "metadata": {},
   "outputs": [
    {
     "name": "stdout",
     "output_type": "stream",
     "text": [
      "select reservation_id , min(created_at) as reservated_at from maas_db_reservation.reservations where created_at >= '2020-09-20 22:00:00'            and created_at <= '2021-12-19 23:59:59'       group by reservation_id\n"
     ]
    }
   ],
   "source": [
    "query = \"select reservation_id , min(created_at) as reservated_at from maas_db_reservation.reservations where created_at >= '2020-09-20 22:00:00'            and created_at <= '\"+ end_date+ \"'       group by reservation_id\"\n",
    "print(query)\n",
    "reservated_at = pd.read_sql_query(query, core_conn)\n"
   ]
  },
  {
   "cell_type": "code",
   "execution_count": 22,
   "metadata": {},
   "outputs": [
    {
     "name": "stdout",
     "output_type": "stream",
     "text": [
      "select * from maasfms.country \n"
     ]
    }
   ],
   "source": [
    "query = \"select * from maasfms.country \"\n",
    "print(query)\n",
    "country = pd.read_sql_query(query, pan_conn)"
   ]
  },
  {
   "cell_type": "code",
   "execution_count": 23,
   "metadata": {},
   "outputs": [],
   "source": [
    "vehicle_models1 = vehicle_models1.sort_values(by=\"created_at\", ascending=True)\n",
    "vehicle_models1 = vehicle_models1.drop_duplicates(subset=[\"vehicle_model_id\",\"standard_model_id\",\"vehicle_model_name\"], keep=\"last\")"
   ]
  },
  {
   "cell_type": "code",
   "execution_count": null,
   "metadata": {},
   "outputs": [],
   "source": []
  },
  {
   "cell_type": "code",
   "execution_count": 25,
   "metadata": {},
   "outputs": [],
   "source": [
    "vehicles1 = vehicles.drop_duplicates(subset=[\"vehicle_id\",\"model_id\"], keep=\"last\")"
   ]
  },
  {
   "cell_type": "code",
   "execution_count": 26,
   "metadata": {},
   "outputs": [
    {
     "name": "stdout",
     "output_type": "stream",
     "text": [
      "============================ query end ==============================\n",
      "closing connections\n",
      "============================ stat start ==============================\n",
      "예약 일수 별 예약 통계\n",
      "join reservations, rental_vehicles\n",
      "row count of merged above:  5798\n",
      "join location\n",
      "row count of merged above:  5559\n",
      "join vehicles\n",
      "row count of merged above:  5465\n",
      "join vehicle model\n",
      "row count of merged above:  5465\n",
      "join standard vehicle model\n",
      "row count of merged above:  5465\n",
      "join mc(chargevheicle and charge)\n",
      "row count of merged above:  5394\n",
      "join reservated_at\n",
      "row count of merged above:  5187\n",
      "\n"
     ]
    }
   ],
   "source": [
    "\n",
    "print(\"============================ query end ==============================\")\n",
    "print(\"closing connections\")\n",
    "# pan_conn.close()\n",
    "# core_conn.close()\n",
    "print(\"============================ stat start ==============================\")\n",
    "print(\"예약 일수 별 예약 통계\")\n",
    "#reservations join rental vehicle\n",
    "print(\"join reservations, rental_vehicles\")\n",
    "day_stat_reservation_count = pd.merge(reservations, rental_vehicles[['reservation_id','vehicle_id','pickup_station_id']], how='left', on='reservation_id')\n",
    "print(\"row count of merged above: \",len(day_stat_reservation_count))\n",
    "#reservation join rental vehilce inner join location \n",
    "\n",
    "print(\"join location\")\n",
    "day_stat_reservation_count = pd.merge(day_stat_reservation_count, location[[\"pickup_station_id\",\"name\"]], how='inner',on='pickup_station_id')\n",
    "print(\"row count of merged above: \",len(day_stat_reservation_count))\n",
    "\n",
    "print(\"join vehicles\")\n",
    "day_stat_reservation_count = pd.merge(day_stat_reservation_count, vehicles1[[\"vehicle_id\",\"model_id\"]], how=\"inner\", on=\"vehicle_id\")\n",
    "print(\"row count of merged above: \",len(day_stat_reservation_count))\n",
    "day_stat_reservation_count[\"vehicle_model_id\"] = day_stat_reservation_count[\"model_id\"]\n",
    "\n",
    "print(\"join vehicle model\")\n",
    "day_stat_reservation_count = pd.merge(day_stat_reservation_count, vehicle_models1[[\"vehicle_model_id\",\"standard_model_id\",\"vehicle_model_name\"]], how=\"inner\", on=\"vehicle_model_id\")\n",
    "print(\"row count of merged above: \",len(day_stat_reservation_count))\n",
    "\n",
    "print(\"join standard vehicle model\")\n",
    "day_stat_reservation_count = pd.merge(day_stat_reservation_count, vehicle_models2[[\"vehicle_model_name\",\"standard_model_id\"]], how=\"inner\", on=\"standard_model_id\")\n",
    "print(\"row count of merged above: \",len(day_stat_reservation_count))\n",
    "\n",
    "print(\"join mc(chargevheicle and charge)\")\n",
    "day_stat_reservation_count = pd.merge(day_stat_reservation_count, vehicle_charge, how=\"inner\", on='vehicle_id')\n",
    "print(\"row count of merged above: \",len(day_stat_reservation_count))\n",
    "print(\"join reservated_at\")\n",
    "day_stat_reservation_count = pd.merge(day_stat_reservation_count, reservated_at, how=\"inner\", on=\"reservation_id\")\n",
    "print(\"row count of merged above: \",len(day_stat_reservation_count))\n",
    "# print(\"join mp\")\n",
    "# day_stat_reservation_count = pd.merge(day_stat_reservation_count, mp, how=\"left\", on='reservation_id')\n",
    "# print(\"row count of merged above: \",len(day_stat_reservation_count))\n",
    "print()"
   ]
  },
  {
   "cell_type": "code",
   "execution_count": 27,
   "metadata": {},
   "outputs": [],
   "source": [
    "# 비교를 위한 컬럼 type 변경\n",
    "day_stat_reservation_count[\"reserveated_at\"] = pd.to_datetime(day_stat_reservation_count['reservated_at'])"
   ]
  },
  {
   "cell_type": "code",
   "execution_count": 28,
   "metadata": {},
   "outputs": [],
   "source": [
    "#where 절\n",
    "\n",
    "day_stat_reservation_count = day_stat_reservation_count[day_stat_reservation_count['reservated_at'] >= datetime.datetime.strptime('2020-09-20 22:00:00','%Y-%m-%d %H:%M:%S')]\n",
    "day_stat_reservation_count = day_stat_reservation_count[day_stat_reservation_count['reservated_at'] <= datetime.datetime.strptime(end_date,'%Y-%m-%d %H:%M:%S')]\n",
    "day_stat_reservation_count = day_stat_reservation_count[day_stat_reservation_count['deleted_at'].isna()]\n",
    "day_stat_reservation_count = day_stat_reservation_count[day_stat_reservation_count['reservation_status'].isin(('CONFIRMED', 'INUSE', 'RETURNED'))]\n"
   ]
  },
  {
   "cell_type": "code",
   "execution_count": null,
   "metadata": {},
   "outputs": [],
   "source": []
  },
  {
   "cell_type": "code",
   "execution_count": 29,
   "metadata": {},
   "outputs": [],
   "source": [
    "#데이터 전처리 진행\n",
    "day_stat_reservation_count = day_stat_reservation_count[day_stat_reservation_count['deleted_at'].isna()]\n",
    "day_stat_reservation_count = day_stat_reservation_count.sort_values(by=\"reservated_at\", ascending=False)\n",
    "day_stat_reservation_count.reservation_start_time = day_stat_reservation_count.reservation_start_time.dt.date\n",
    "day_stat_reservation_count.reservation_end_time  = day_stat_reservation_count.reservation_end_time.dt.date\n",
    "day_stat_reservation_count[\"rental days\"]= day_stat_reservation_count.reservation_end_time - day_stat_reservation_count.reservation_start_time\n",
    "# day_stat_reservation_count = day_stat_reservation_count.drop_duplicates(subset=None, keep='first', inplace=False, ignore_index=False)"
   ]
  },
  {
   "cell_type": "markdown",
   "metadata": {},
   "source": [
    "# 일자 별 예약일 합계 "
   ]
  },
  {
   "cell_type": "code",
   "execution_count": 30,
   "metadata": {},
   "outputs": [
    {
     "name": "stdout",
     "output_type": "stream",
     "text": [
      "1~7 days\n",
      "678\n",
      "====================\n",
      "8~29 days\n",
      "122\n",
      "====================\n",
      "1~3 months\n",
      "44\n",
      "====================\n",
      "3~ months\n",
      "3\n",
      "====================\n",
      "all\n",
      "847\n"
     ]
    }
   ],
   "source": [
    "print(\"1~7 days\")\n",
    "week = day_stat_reservation_count[(day_stat_reservation_count[\"rental days\"]>=datetime.timedelta(days=0)) & (day_stat_reservation_count[\"rental days\"]<= datetime.timedelta(days=6)) ].id.count()\n",
    "print(week)\n",
    "print(\"====================\")\n",
    "print(\"8~29 days\")\n",
    "month = day_stat_reservation_count[(day_stat_reservation_count[\"rental days\"]>=datetime.timedelta(days=7)) & (day_stat_reservation_count[\"rental days\"]<= datetime.timedelta(days=29)) ].id.count()\n",
    "print(month)\n",
    "print(\"====================\")\n",
    "print(\"1~3 months\")\n",
    "three_month = day_stat_reservation_count[(day_stat_reservation_count[\"rental days\"]>=datetime.timedelta(days=30)) & (day_stat_reservation_count[\"rental days\"]<= datetime.timedelta(days=89)) ].id.count()\n",
    "print(three_month)\n",
    "print(\"====================\")\n",
    "print(\"3~ months\")\n",
    "etc = day_stat_reservation_count[(day_stat_reservation_count[\"rental days\"]>=datetime.timedelta(days=90))  ].id.count()\n",
    "print(etc)\n",
    "print(\"====================\")\n",
    "print(\"all\")\n",
    "print(len(day_stat_reservation_count))\n",
    "day_reservation = {'~1week': [week], \n",
    "\n",
    "                  '~1M': [month], \n",
    "\n",
    "                 '1M~3M': [three_month],\n",
    "                  \n",
    "                  '3M~': [etc],\n",
    "                  'SUM':[len(day_stat_reservation_count)]}\n",
    "df = pd.DataFrame(day_reservation)\n",
    "\n"
   ]
  },
  {
   "cell_type": "markdown",
   "metadata": {},
   "source": [
    "# 차종별 예약 현황 - 국가별 신규 차량이 등록되고 있으므로 전과 데이터 상이 할 수 있음"
   ]
  },
  {
   "cell_type": "code",
   "execution_count": 31,
   "metadata": {},
   "outputs": [
    {
     "name": "stdout",
     "output_type": "stream",
     "text": [
      "--------------------------------------------------------\n",
      "차종별 예약 현황\n",
      "차종별 예약현황 data processing:\n",
      "left join reservations, rental_vhehicles\n",
      "row count of merged above:  5798\n",
      "inner join location\n",
      "row count of merged above:  5559\n",
      "inner join vehicles\n",
      "row count of merged above:  5465\n",
      "inner join vehicle models\n",
      "row count of merged above:  5465\n",
      "inner join standard vehicle models\n",
      "row count of merged above:  5465\n",
      "inner join mc(vehicle charge and charge)\n",
      "row count of merged above:  5394\n",
      "inner join reservated_at\n",
      "row count of merged above:  5187\n",
      "\n"
     ]
    }
   ],
   "source": [
    "print('--------------------------------------------------------')\n",
    "print(\"차종별 예약 현황\")\n",
    "print(\"차종별 예약현황 data processing:\")\n",
    "print(\"left join reservations, rental_vhehicles\")\n",
    "vehicle_stat_reservation_count = pd.merge(reservations, rental_vehicles[[\"reservation_id\",\"vehicle_id\",\"pickup_station_id\"]], how=\"left\", on=\"reservation_id\")\n",
    "print(\"row count of merged above: \",len(vehicle_stat_reservation_count))\n",
    "\n",
    "print(\"inner join location\")\n",
    "vehicle_stat_reservation_count = pd.merge(vehicle_stat_reservation_count, location[[\"pickup_station_id\",\"name\"]], how='inner',on='pickup_station_id')\n",
    "print(\"row count of merged above: \",len(vehicle_stat_reservation_count))\n",
    "\n",
    "print(\"inner join vehicles\")\n",
    "vehicle_stat_reservation_count = pd.merge(vehicle_stat_reservation_count, vehicles1[[\"vehicle_id\",\"model_id\"]], how=\"inner\", on=\"vehicle_id\")\n",
    "vehicle_stat_reservation_count[\"vehicle_model_id\"] = vehicle_stat_reservation_count[\"model_id\"]\n",
    "print(\"row count of merged above: \",len(vehicle_stat_reservation_count))\n",
    "print(\"inner join vehicle models\")\n",
    "\n",
    "vehicle_stat_reservation_count2 = pd.merge(vehicle_stat_reservation_count, vehicle_models1[[\"vehicle_model_id\",\"standard_model_id\",\"vehicle_model_name\"]], how=\"inner\", on=\"vehicle_model_id\")\n",
    "print(\"row count of merged above: \",len(vehicle_stat_reservation_count2))\n",
    "\n",
    "print(\"inner join standard vehicle models\")\n",
    "vehicle_stat_reservation_count2 = pd.merge(vehicle_stat_reservation_count2, vehicle_models2[[\"vehicle_model_name\",\"standard_model_id\"]], how=\"inner\", on=\"standard_model_id\")\n",
    "print(\"row count of merged above: \",len(vehicle_stat_reservation_count2))\n",
    "\n",
    "print(\"inner join mc(vehicle charge and charge)\")\n",
    "vehicle_stat_reservation_count2 = pd.merge(vehicle_stat_reservation_count2, vehicle_charge, how=\"inner\", on=\"vehicle_id\")\n",
    "print(\"row count of merged above: \",len(vehicle_stat_reservation_count2))\n",
    "\n",
    "print(\"inner join reservated_at\")\n",
    "vehicle_stat_reservation_count2 = pd.merge(vehicle_stat_reservation_count2, reservated_at, how=\"inner\", on=\"reservation_id\")\n",
    "print(\"row count of merged above: \",len(vehicle_stat_reservation_count2))\n",
    "print()"
   ]
  },
  {
   "cell_type": "code",
   "execution_count": 32,
   "metadata": {},
   "outputs": [],
   "source": [
    "#where 절\n",
    "vehicle_stat_reservation_count2 = vehicle_stat_reservation_count2[vehicle_stat_reservation_count2['reservated_at'] >= datetime.datetime.strptime('2020-09-20 22:00:00','%Y-%m-%d %H:%M:%S')]\n",
    "vehicle_stat_reservation_count2 = vehicle_stat_reservation_count2[vehicle_stat_reservation_count2['reservated_at'] <= datetime.datetime.strptime(end_date,'%Y-%m-%d %H:%M:%S')]\n",
    "vehicle_stat_reservation_count2 = vehicle_stat_reservation_count2[vehicle_stat_reservation_count2['deleted_at'].isna()]\n",
    "vehicle_stat_reservation_count2 = vehicle_stat_reservation_count2[vehicle_stat_reservation_count2['reservation_status'].isin(('CONFIRMED', 'INUSE', 'RETURNED'))]\n"
   ]
  },
  {
   "cell_type": "code",
   "execution_count": 33,
   "metadata": {},
   "outputs": [],
   "source": [
    "vehicle_stat_reservation_count2 = vehicle_stat_reservation_count2.sort_values(by=\"reservated_at\", ascending=False)\n",
    "# vehicle_stat_reservation_count2 = vehicle_stat_reservation_count2.drop_duplicates(subset=None, keep='first', inplace=False, ignore_index=False)\n"
   ]
  },
  {
   "cell_type": "code",
   "execution_count": 34,
   "metadata": {},
   "outputs": [],
   "source": [
    "vehicle_stat_reservation_count2[\"this week count\"]=np.where((vehicle_stat_reservation_count2[\"reservated_at\"] >= datetime.datetime.strptime(start_date, '%Y-%m-%d %H:%M:%S')) &( vehicle_stat_reservation_count2[\"reservated_at\"] <= datetime.datetime.strptime(end_date, '%Y-%m-%d %H:%M:%S')), 1, 0)\n",
    "vehicle_stat_reservation_count2[\"tot count\"] =1"
   ]
  },
  {
   "cell_type": "markdown",
   "metadata": {},
   "source": [
    "# 차종별 예약 현황"
   ]
  },
  {
   "cell_type": "code",
   "execution_count": 35,
   "metadata": {},
   "outputs": [
    {
     "name": "stdout",
     "output_type": "stream",
     "text": [
      "reservation count group by vehicle model\n",
      "                      this week count  tot count\n",
      "vehicle_model_name_y                            \n",
      "Ceed CD                             1        157\n",
      "Ceed CD CUV                         2         21\n",
      "Ceed CD CUV MH                      0          3\n",
      "Ceed CD CUV PHEV                    0         12\n",
      "Ceed CD GT                          1         23\n",
      "Ceed SW CD                          2         67\n",
      "Niro DE PE                          2         55\n",
      "Niro DE PHEV                        0         10\n",
      "Niro DQ EV                          1         79\n",
      "Picanto JA PE                       5        280\n",
      "Sportage QL PE                      0         40\n",
      "Sportage QL PE MH                   0          1\n",
      "Stonic YB-CUV PE                    4         99\n",
      "\n"
     ]
    }
   ],
   "source": [
    "vehicle_stat_reservation_count2_group = vehicle_stat_reservation_count2[[\"this week count\",\"tot count\"]].groupby(vehicle_stat_reservation_count2['vehicle_model_name_y'])\n",
    "print(\"reservation count group by vehicle model\")# 국가 별로 나눠야함 --> business country join해서 groupby에 country_name 추가\n",
    "print(vehicle_stat_reservation_count2_group.sum())\n",
    "print()"
   ]
  },
  {
   "cell_type": "markdown",
   "metadata": {},
   "source": [
    "# 차량 등록 현황"
   ]
  },
  {
   "cell_type": "markdown",
   "metadata": {},
   "source": [
    "### 이부분은 원래 가용차량 아닌 전체 차량이지만 그냥 스킵합시다 요즘제 등록안된"
   ]
  },
  {
   "cell_type": "markdown",
   "metadata": {},
   "source": [
    "# 국가별 차량 등록 현황"
   ]
  },
  {
   "cell_type": "code",
   "execution_count": null,
   "metadata": {},
   "outputs": [],
   "source": []
  },
  {
   "cell_type": "code",
   "execution_count": 36,
   "metadata": {},
   "outputs": [
    {
     "name": "stdout",
     "output_type": "stream",
     "text": [
      "--------------------------------------------------------\n",
      "국가별 차량 등록 현황\n",
      "국가별 차량 등록 현황 data processing:\n",
      "left join business, location\n",
      "row count of merged above:  42\n",
      "left join vehicles\n",
      "row count of merged above:  140\n",
      "left join vehicle models\n",
      "row count of merged above:  325\n",
      "left join standard vehicle model\n",
      "row count of merged above:  3085\n",
      "left join country\n",
      "row count of merged above:  3085\n"
     ]
    }
   ],
   "source": [
    "print('--------------------------------------------------------')\n",
    "print(\"국가별 차량 등록 현황\")\n",
    "print(\"국가별 차량 등록 현황 data processing:\")\n",
    "print(\"left join business, location\")\n",
    "business[\"business_id\"] = business[\"id\"]\n",
    "country_vehicle = pd.merge(business, location, how=\"left\",on=\"business_id\")\n",
    "print(\"row count of merged above: \",len(country_vehicle))\n",
    "\n",
    "print(\"left join vehicles\")\n",
    "vehicles[\"business_id\"] = vehicles[\"group_id\"]\n",
    "country_vehicle = pd.merge(country_vehicle, vehicles, how=\"left\", left_on=[\"business_id\",\"pickup_station_id\"], right_on=[\"business_id\", \"station_id\"])\n",
    "print(\"row count of merged above: \",len(country_vehicle))\n",
    "\n",
    "print(\"left join vehicle models\")\n",
    "country_vehicle[\"vehicle_model_id\"] = country_vehicle[\"model_id\"]\n",
    "country_vehicle = pd.merge(country_vehicle, vehicle_models[[\"vehicle_model_id\",\"standard_model_id\",\"vehicle_model_name\"]], how=\"inner\", on=\"vehicle_model_id\")\n",
    "print(\"row count of merged above: \",len(country_vehicle))\n",
    "\n",
    "print(\"left join standard vehicle model\")\n",
    "country_vehicle = pd.merge(country_vehicle, vehicle_models2[[\"vehicle_model_name\",\"standard_model_id\"]], how=\"inner\", on=\"standard_model_id\")\n",
    "print(\"row count of merged above: \",len(country_vehicle))\n",
    "\n",
    "print(\"left join country\")\n",
    "country_vehicle = pd.merge(country_vehicle, country[[\"id\",\"country_name\"]], how=\"inner\", left_on=[\"country_id\"], right_on=[\"id\"] )\n",
    "print(\"row count of merged above: \",len(country_vehicle))\n",
    "country_vehicle = country_vehicle.drop_duplicates(subset=None, keep='first', inplace=False, ignore_index=False)\n"
   ]
  },
  {
   "cell_type": "code",
   "execution_count": 37,
   "metadata": {},
   "outputs": [],
   "source": [
    "country_vehicle = country_vehicle[\n",
    "    (country_vehicle.deleted_at.isna()) &\n",
    "    (country_vehicle.deleted_at_x.isna()) &\n",
    "    (country_vehicle.deleted_at_y.isna())\n",
    "]\n"
   ]
  },
  {
   "cell_type": "code",
   "execution_count": 38,
   "metadata": {},
   "outputs": [
    {
     "name": "stdout",
     "output_type": "stream",
     "text": [
      "\n",
      "국가, 모델(standard) 별 차량 등록 현황\n",
      "                                   id_x\n",
      "country_name vehicle_model_name_y      \n",
      "Italia       Ceed CD                  9\n",
      "             Ceed CD CUV              5\n",
      "             Ceed CD CUV MH           2\n",
      "             Ceed CD CUV PHEV         2\n",
      "             Ceed CD GT               1\n",
      "             Ceed SW CD               4\n",
      "             Niro DE PE               6\n",
      "             Niro DE PHEV             1\n",
      "             Niro DQ EV               2\n",
      "             Picanto JA PE           13\n",
      "             Soul EV SK3              1\n",
      "             Sportage QL PE           5\n",
      "             Sportage QL PE MH        2\n",
      "             Stonic YB-CUV PE         8\n",
      "Slovensko    Sportage MY21            3\n"
     ]
    }
   ],
   "source": [
    "print(\"\")\n",
    "print(\"국가, 모델(standard) 별 차량 등록 현황\")\n",
    "print(country_vehicle[['country_name', 'vehicle_model_name_y','id_x']].groupby(['country_name', 'vehicle_model_name_y']).count())"
   ]
  },
  {
   "cell_type": "code",
   "execution_count": 39,
   "metadata": {},
   "outputs": [
    {
     "name": "stdout",
     "output_type": "stream",
     "text": [
      "국가, 딜러그룹, 딜러쉽 별 차량 등록 현황\n",
      "                                                                                                            id_x\n",
      "country_name name_x                      created_at_x        name_y                    created_at_y             \n",
      "Italia       CAR LISI                    2021-03-30 07:41:57 Foggia                    2021-04-19 11:02:48     2\n",
      "             CLERICI AUTO SPA            2020-09-07 07:23:41 Cantù (CO)                2020-09-07 07:47:11     2\n",
      "                                                             Induno Olona (VA)         2020-09-07 07:46:41     6\n",
      "                                                             Lurate Caccivio (CO)      2020-09-07 07:44:44     5\n",
      "                                                             Milano V.Cassinis (MI)    2020-09-07 07:40:15     2\n",
      "                                                             Milano V.Gallarate (MI)   2020-09-07 07:38:18     6\n",
      "                                                             Saronno (VA)              2020-09-07 07:53:02     3\n",
      "                                                             Tavernerio (CO)           2020-09-07 07:52:14     1\n",
      "             CONERO CAR S.p.A            2021-04-22 08:52:17 Camerano (AN)             2021-04-29 08:54:07     4\n",
      "             EUROMOTOR AUTOMOBILI S.R.L. 2021-02-23 18:58:16 Modugno (BA)              2021-03-16 15:40:42     3\n",
      "             MAGICAR S.R.L               2021-02-25 21:37:07 Grottammare               2021-03-17 15:20:00     2\n",
      "             MC MOTORS S.R.L.            2021-03-31 14:12:11 Lecce                     2021-04-06 13:39:07     1\n",
      "             MEREU AUTO S.R.L.           2021-07-07 15:28:07 Olbia                     2021-07-08 08:38:35     5\n",
      "             PASQUARELLI AUTO S.r.l.     2021-08-26 15:11:23 San Giovanni Teatino (CH) 2021-08-27 10:01:08     9\n",
      "                                                             San Salvo (CH)            2021-08-27 10:02:07     6\n",
      "             SCAR S.R.L.                 2020-12-17 16:54:02 Livorno                   2020-12-17 16:56:10     3\n",
      "             SCRAMONCIN S.R.L.           2021-02-25 21:40:50 Solagna (VI)              2021-03-16 14:22:33     1\n",
      "Slovensko    KIA Bratislava s.r.o        2021-11-25 08:55:46 KIA Bratislava s.r.o      2021-11-25 09:14:10     2\n",
      "             Slovakia Auto, s.r.o.       2021-11-25 08:53:09 Slovakia Auto, s.r.o.     2021-11-25 09:14:10     1\n"
     ]
    }
   ],
   "source": [
    "print(\"국가, 딜러그룹, 딜러쉽 별 차량 등록 현황\")\n",
    "print(country_vehicle[['country_name', 'name_x','created_at_x','name_y','created_at_y','id_x']].groupby(['country_name', 'name_x','created_at_x','name_y','created_at_y']).count())"
   ]
  },
  {
   "cell_type": "markdown",
   "metadata": {},
   "source": [
    "# MP online offline"
   ]
  },
  {
   "cell_type": "code",
   "execution_count": 40,
   "metadata": {},
   "outputs": [
    {
     "name": "stdout",
     "output_type": "stream",
     "text": [
      "--------------------------------------------------------\n",
      "결제 방법 통계(Online, Offline\n",
      "on-off line data processing:\n",
      "left join reservations, business\n",
      "row count of merged above:  1290\n",
      "left join maasfms payment\n",
      "row count of merged above:  4368\n",
      "left join reservated_at\n",
      "row count of merged above:  4368\n"
     ]
    }
   ],
   "source": [
    "print('--------------------------------------------------------')\n",
    "print(\"결제 방법 통계(Online, Offline\")\n",
    "print(\"on-off line data processing:\")\n",
    "print(\"left join reservations, business\")\n",
    "mp_reservations = reservations[reservations[\"deleted_at\"].isna()]\n",
    "mp_reservations = pd.merge(mp_reservations, business[['name','business_id']], how='inner',left_on=\"group_id\", right_on='business_id')\n",
    "print(\"row count of merged above: \",len(mp_reservations))\n",
    "\n",
    "print(\"left join maasfms payment\")\n",
    "mp_reservations = pd.merge(mp_reservations, mp, how='left',on=\"reservation_id\")\n",
    "print(\"row count of merged above: \",len(mp_reservations))\n",
    "\n",
    "print(\"left join reservated_at\")\n",
    "mp_reservations = pd.merge(mp_reservations, reservated_at, how='left',on='reservation_id' )\n",
    "print(\"row count of merged above: \",len(mp_reservations))"
   ]
  },
  {
   "cell_type": "code",
   "execution_count": 41,
   "metadata": {},
   "outputs": [],
   "source": [
    "#where 절\n",
    "mp_reservations = mp_reservations[mp_reservations['created_at'] >= datetime.datetime.strptime('2020-09-20 22:00:00','%Y-%m-%d %H:%M:%S')]\n",
    "mp_reservations = mp_reservations[mp_reservations['reservation_status'].isin(('CONFIRMED', 'INUSE', 'RETURNED'))]\n",
    "mp_reservations = mp_reservations[mp_reservations['reservated_at'] >= datetime.datetime.strptime(start_date,'%Y-%m-%d %H:%M:%S')]\n",
    "mp_reservations = mp_reservations[mp_reservations['reservated_at'] <= datetime.datetime.strptime(end_date,'%Y-%m-%d %H:%M:%S')]\n"
   ]
  },
  {
   "cell_type": "code",
   "execution_count": 42,
   "metadata": {},
   "outputs": [
    {
     "name": "stdout",
     "output_type": "stream",
     "text": [
      "\n",
      "결제 방법 별 수\n",
      "         reservation_id\n",
      "on_off                 \n",
      "Offline               2\n",
      "Online               16\n"
     ]
    }
   ],
   "source": [
    "mp_reservations = mp_reservations.drop_duplicates(subset=[\"reservation_id\"], keep=\"last\")\n",
    "mp_reservations.on_off = mp_reservations.on_off.fillna('Offline')\n",
    "print()\n",
    "print(\"결제 방법 별 수\")\n",
    "print(mp_reservations[[\"on_off\",\"reservation_id\"]].groupby('on_off').count())"
   ]
  },
  {
   "cell_type": "code",
   "execution_count": 43,
   "metadata": {},
   "outputs": [
    {
     "name": "stdout",
     "output_type": "stream",
     "text": [
      "       on_off                        reservation_id\n",
      "3330   Online  48448fc8-5cae-11ec-9ae9-22c7db635845\n",
      "3331   Online  aa643e1a-5cc2-11ec-9ae9-22c7db635845\n",
      "3335   Online  9bd0b867-5bed-11ec-9ae9-22c7db635845\n",
      "3338   Online  84f559ed-5d06-11ec-acfb-8a8c78551c6a\n",
      "3342   Online  9d2d3ceb-5cfa-11ec-acfb-8a8c78551c6a\n",
      "3349   Online  94d8483b-5e65-11ec-acfb-8a8c78551c6a\n",
      "3353   Online  71fcd8b8-5e53-11ec-9ae9-22c7db635845\n",
      "3357   Online  11991567-5daa-11ec-9ae9-22c7db635845\n",
      "3359  Offline  978eabfd-5f07-11ec-acfb-8a8c78551c6a\n",
      "3368   Online  6d7e44e6-5cff-11ec-acfb-8a8c78551c6a\n",
      "3372   Online  a855c653-5cec-11ec-9ae9-22c7db635845\n",
      "3375   Online  42d5d17e-60c1-11ec-9ae9-22c7db635845\n",
      "3616   Online  fa75b087-5ce6-11ec-acfb-8a8c78551c6a\n",
      "3829   Online  94818982-5bf3-11ec-9ae9-22c7db635845\n",
      "4062   Online  2baa9f6e-5d95-11ec-acfb-8a8c78551c6a\n",
      "4063  Offline  5336fa17-5bfc-11ec-acfb-8a8c78551c6a\n",
      "4157   Online  2def5147-5c1f-11ec-acfb-8a8c78551c6a\n",
      "4325   Online  2fcbb648-5c05-11ec-acfb-8a8c78551c6a\n"
     ]
    }
   ],
   "source": [
    "print(mp_reservations[[\"on_off\",\"reservation_id\"]])\n"
   ]
  },
  {
   "cell_type": "markdown",
   "metadata": {},
   "source": [
    "# 예약 종류별 통계"
   ]
  },
  {
   "cell_type": "code",
   "execution_count": 49,
   "metadata": {},
   "outputs": [
    {
     "name": "stdout",
     "output_type": "stream",
     "text": [
      "--------------------------------------------------------\n",
      "예약 종류별 통계\n",
      "reservation type data processing:\n",
      "join reservations, rental_vehicles\n",
      "row count of merged above:  5798\n",
      "join location\n",
      "row count of merged above:  5559\n",
      "join vehicles\n",
      "row count of merged above:  5465\n",
      "join vehicle model\n",
      "row count of merged above:  5465\n",
      "join standard vehicle model\n",
      "row count of merged above:  5465\n",
      "join mc(chargevheicle and charge)\n",
      "row count of merged above:  5394\n",
      "join reservation_short\n",
      "row count of merged above: 5394\n",
      "join reservated_at\n",
      "row count of merged above:  5187\n"
     ]
    }
   ],
   "source": [
    "print('--------------------------------------------------------')\n",
    "print(\"예약 종류별 통계\")\n",
    "print(\"reservation type data processing:\")\n",
    "print(\"join reservations, rental_vehicles\")\n",
    "regist_type_stat = pd.merge(reservations, rental_vehicles[['reservation_id','vehicle_id','pickup_station_id']], how='left', on='reservation_id')\n",
    "print(\"row count of merged above: \",len(regist_type_stat))\n",
    "#reservation join rental vehilce inner join location \n",
    "\n",
    "print(\"join location\")\n",
    "regist_type_stat = pd.merge(regist_type_stat, location[[\"pickup_station_id\",\"name\"]], how='inner',on='pickup_station_id')\n",
    "print(\"row count of merged above: \",len(regist_type_stat))\n",
    "\n",
    "print(\"join vehicles\")\n",
    "regist_type_stat = pd.merge(regist_type_stat, vehicles1[[\"vehicle_id\",\"model_id\"]], how=\"inner\", on=\"vehicle_id\")\n",
    "print(\"row count of merged above: \",len(regist_type_stat))\n",
    "regist_type_stat[\"vehicle_model_id\"] = regist_type_stat[\"model_id\"]\n",
    "\n",
    "print(\"join vehicle model\")\n",
    "regist_type_stat = pd.merge(regist_type_stat, vehicle_models1[[\"vehicle_model_id\",\"standard_model_id\",\"vehicle_model_name\"]], how=\"inner\", on=\"vehicle_model_id\")\n",
    "print(\"row count of merged above: \",len(regist_type_stat))\n",
    "\n",
    "print(\"join standard vehicle model\")\n",
    "regist_type_stat = pd.merge(regist_type_stat, vehicle_models2[[\"vehicle_model_name\",\"standard_model_id\"]], how=\"inner\", on=\"standard_model_id\")\n",
    "print(\"row count of merged above: \",len(regist_type_stat))\n",
    "\n",
    "print(\"join mc(chargevheicle and charge)\")\n",
    "regist_type_stat = pd.merge(regist_type_stat, vehicle_charge, how=\"inner\", on='vehicle_id')\n",
    "print(\"row count of merged above: \",len(regist_type_stat))\n",
    "\n",
    "print(\"join reservation_short\")\n",
    "reservation_short = reservation_short[reservation_short['deleted_at'].isna()]\n",
    "regist_type_stat = pd.merge(regist_type_stat, reservation_short, how=\"left\", on=\"reservation_id\")\n",
    "print(\"row count of merged above:\", len(regist_type_stat))\n",
    "\n",
    "print(\"join reservated_at\")\n",
    "regist_type_stat = pd.merge(regist_type_stat, reservated_at, how=\"inner\", on=\"reservation_id\")\n",
    "print(\"row count of merged above: \",len(regist_type_stat))\n",
    "\n"
   ]
  },
  {
   "cell_type": "code",
   "execution_count": 53,
   "metadata": {},
   "outputs": [
    {
     "data": {
      "text/html": [
       "<div>\n",
       "<style scoped>\n",
       "    .dataframe tbody tr th:only-of-type {\n",
       "        vertical-align: middle;\n",
       "    }\n",
       "\n",
       "    .dataframe tbody tr th {\n",
       "        vertical-align: top;\n",
       "    }\n",
       "\n",
       "    .dataframe thead th {\n",
       "        text-align: right;\n",
       "    }\n",
       "</style>\n",
       "<table border=\"1\" class=\"dataframe\">\n",
       "  <thead>\n",
       "    <tr style=\"text-align: right;\">\n",
       "      <th></th>\n",
       "      <th>id</th>\n",
       "      <th>created_at_x</th>\n",
       "      <th>updated_at_x</th>\n",
       "      <th>deleted_at_x</th>\n",
       "      <th>creator_id</th>\n",
       "      <th>service_id</th>\n",
       "      <th>provider_id</th>\n",
       "      <th>reservation_id</th>\n",
       "      <th>product_id</th>\n",
       "      <th>reservation_start_time_x</th>\n",
       "      <th>...</th>\n",
       "      <th>installment_payment_pay</th>\n",
       "      <th>installment_payment_iterations</th>\n",
       "      <th>installment_payment_productname</th>\n",
       "      <th>installment_payment_rental_fee</th>\n",
       "      <th>enroll_status</th>\n",
       "      <th>charge_changed_yn</th>\n",
       "      <th>old_reservation_id</th>\n",
       "      <th>old_reservation_key</th>\n",
       "      <th>stripe_success_yn</th>\n",
       "      <th>reservated_at</th>\n",
       "    </tr>\n",
       "  </thead>\n",
       "  <tbody>\n",
       "    <tr>\n",
       "      <th>0</th>\n",
       "      <td>62125</td>\n",
       "      <td>2021-05-13 08:05:37</td>\n",
       "      <td>2021-05-13 08:05:37</td>\n",
       "      <td>2021-05-13 08:05:39</td>\n",
       "      <td></td>\n",
       "      <td>4d82f76c-3073-11ec-861d-0270ee4ad24a</td>\n",
       "      <td>7f87000d-142f-11ec-86a7-02ff1f7ba654</td>\n",
       "      <td>004ccff9-b3c2-11eb-857a-0a73dbc7f556</td>\n",
       "      <td>16bdb534-9913-11eb-a891-0a73dbc7f556</td>\n",
       "      <td>2021-05-13 08:10:00</td>\n",
       "      <td>...</td>\n",
       "      <td>0.0</td>\n",
       "      <td>0</td>\n",
       "      <td>None</td>\n",
       "      <td>30.0</td>\n",
       "      <td>None</td>\n",
       "      <td>NaN</td>\n",
       "      <td>None</td>\n",
       "      <td>None</td>\n",
       "      <td>1</td>\n",
       "      <td>2021-05-13 08:05:37</td>\n",
       "    </tr>\n",
       "    <tr>\n",
       "      <th>1</th>\n",
       "      <td>62126</td>\n",
       "      <td>2021-05-13 08:05:39</td>\n",
       "      <td>2021-05-13 08:05:39</td>\n",
       "      <td>2021-05-13 08:05:49</td>\n",
       "      <td></td>\n",
       "      <td>4d82f76c-3073-11ec-861d-0270ee4ad24a</td>\n",
       "      <td>7f87000d-142f-11ec-86a7-02ff1f7ba654</td>\n",
       "      <td>004ccff9-b3c2-11eb-857a-0a73dbc7f556</td>\n",
       "      <td>16bdb534-9913-11eb-a891-0a73dbc7f556</td>\n",
       "      <td>2021-05-13 08:10:00</td>\n",
       "      <td>...</td>\n",
       "      <td>0.0</td>\n",
       "      <td>0</td>\n",
       "      <td>None</td>\n",
       "      <td>30.0</td>\n",
       "      <td>None</td>\n",
       "      <td>NaN</td>\n",
       "      <td>None</td>\n",
       "      <td>None</td>\n",
       "      <td>1</td>\n",
       "      <td>2021-05-13 08:05:37</td>\n",
       "    </tr>\n",
       "    <tr>\n",
       "      <th>2</th>\n",
       "      <td>62127</td>\n",
       "      <td>2021-05-13 08:05:49</td>\n",
       "      <td>2021-05-13 08:05:49</td>\n",
       "      <td>2021-05-13 15:03:51</td>\n",
       "      <td></td>\n",
       "      <td>4d82f76c-3073-11ec-861d-0270ee4ad24a</td>\n",
       "      <td>7f87000d-142f-11ec-86a7-02ff1f7ba654</td>\n",
       "      <td>004ccff9-b3c2-11eb-857a-0a73dbc7f556</td>\n",
       "      <td>16bdb534-9913-11eb-a891-0a73dbc7f556</td>\n",
       "      <td>2021-05-13 08:05:49</td>\n",
       "      <td>...</td>\n",
       "      <td>0.0</td>\n",
       "      <td>0</td>\n",
       "      <td>None</td>\n",
       "      <td>30.0</td>\n",
       "      <td>None</td>\n",
       "      <td>NaN</td>\n",
       "      <td>None</td>\n",
       "      <td>None</td>\n",
       "      <td>1</td>\n",
       "      <td>2021-05-13 08:05:37</td>\n",
       "    </tr>\n",
       "    <tr>\n",
       "      <th>3</th>\n",
       "      <td>62128</td>\n",
       "      <td>2021-05-13 15:03:51</td>\n",
       "      <td>2021-05-13 15:03:51</td>\n",
       "      <td>NaT</td>\n",
       "      <td></td>\n",
       "      <td>4d82f76c-3073-11ec-861d-0270ee4ad24a</td>\n",
       "      <td>7f87000d-142f-11ec-86a7-02ff1f7ba654</td>\n",
       "      <td>004ccff9-b3c2-11eb-857a-0a73dbc7f556</td>\n",
       "      <td>16bdb534-9913-11eb-a891-0a73dbc7f556</td>\n",
       "      <td>2021-05-13 08:05:49</td>\n",
       "      <td>...</td>\n",
       "      <td>0.0</td>\n",
       "      <td>0</td>\n",
       "      <td>None</td>\n",
       "      <td>30.0</td>\n",
       "      <td>None</td>\n",
       "      <td>NaN</td>\n",
       "      <td>None</td>\n",
       "      <td>None</td>\n",
       "      <td>1</td>\n",
       "      <td>2021-05-13 08:05:37</td>\n",
       "    </tr>\n",
       "    <tr>\n",
       "      <th>4</th>\n",
       "      <td>63375</td>\n",
       "      <td>2021-05-24 13:59:19</td>\n",
       "      <td>2021-05-24 13:59:19</td>\n",
       "      <td>2021-05-24 13:59:21</td>\n",
       "      <td></td>\n",
       "      <td>4d82f76c-3073-11ec-861d-0270ee4ad24a</td>\n",
       "      <td>7f87000d-142f-11ec-86a7-02ff1f7ba654</td>\n",
       "      <td>3c0e1515-bc98-11eb-857a-0a73dbc7f556</td>\n",
       "      <td>16bdb534-9913-11eb-a891-0a73dbc7f556</td>\n",
       "      <td>2021-05-24 16:00:00</td>\n",
       "      <td>...</td>\n",
       "      <td>0.0</td>\n",
       "      <td>0</td>\n",
       "      <td>None</td>\n",
       "      <td>60.0</td>\n",
       "      <td>None</td>\n",
       "      <td>NaN</td>\n",
       "      <td>None</td>\n",
       "      <td>None</td>\n",
       "      <td>1</td>\n",
       "      <td>2021-05-24 13:59:19</td>\n",
       "    </tr>\n",
       "    <tr>\n",
       "      <th>...</th>\n",
       "      <td>...</td>\n",
       "      <td>...</td>\n",
       "      <td>...</td>\n",
       "      <td>...</td>\n",
       "      <td>...</td>\n",
       "      <td>...</td>\n",
       "      <td>...</td>\n",
       "      <td>...</td>\n",
       "      <td>...</td>\n",
       "      <td>...</td>\n",
       "      <td>...</td>\n",
       "      <td>...</td>\n",
       "      <td>...</td>\n",
       "      <td>...</td>\n",
       "      <td>...</td>\n",
       "      <td>...</td>\n",
       "      <td>...</td>\n",
       "      <td>...</td>\n",
       "      <td>...</td>\n",
       "      <td>...</td>\n",
       "      <td>...</td>\n",
       "    </tr>\n",
       "    <tr>\n",
       "      <th>5182</th>\n",
       "      <td>65873</td>\n",
       "      <td>2021-09-21 09:09:55</td>\n",
       "      <td>2021-09-21 09:09:55</td>\n",
       "      <td>2021-09-21 09:10:54</td>\n",
       "      <td></td>\n",
       "      <td>4d82f76c-3073-11ec-861d-0270ee4ad24a</td>\n",
       "      <td>7f870a28-142f-11ec-86a7-02ff1f7ba654</td>\n",
       "      <td>aeb0d50d-1abb-11ec-916b-0a73dbc7f556</td>\n",
       "      <td>4001bf56-0981-11ec-993f-02f92df357c4</td>\n",
       "      <td>2021-09-21 09:10:00</td>\n",
       "      <td>...</td>\n",
       "      <td>0.0</td>\n",
       "      <td>0</td>\n",
       "      <td></td>\n",
       "      <td>2061.9</td>\n",
       "      <td></td>\n",
       "      <td>0.0</td>\n",
       "      <td>None</td>\n",
       "      <td>None</td>\n",
       "      <td>0</td>\n",
       "      <td>2021-09-21 09:09:53</td>\n",
       "    </tr>\n",
       "    <tr>\n",
       "      <th>5183</th>\n",
       "      <td>65874</td>\n",
       "      <td>2021-09-21 09:10:54</td>\n",
       "      <td>2021-09-21 09:10:54</td>\n",
       "      <td>2021-09-21 09:10:55</td>\n",
       "      <td></td>\n",
       "      <td>4d82f76c-3073-11ec-861d-0270ee4ad24a</td>\n",
       "      <td>7f870a28-142f-11ec-86a7-02ff1f7ba654</td>\n",
       "      <td>aeb0d50d-1abb-11ec-916b-0a73dbc7f556</td>\n",
       "      <td>4001bf56-0981-11ec-993f-02f92df357c4</td>\n",
       "      <td>2021-09-21 09:10:00</td>\n",
       "      <td>...</td>\n",
       "      <td>0.0</td>\n",
       "      <td>0</td>\n",
       "      <td></td>\n",
       "      <td>2061.9</td>\n",
       "      <td></td>\n",
       "      <td>0.0</td>\n",
       "      <td>None</td>\n",
       "      <td>None</td>\n",
       "      <td>0</td>\n",
       "      <td>2021-09-21 09:09:53</td>\n",
       "    </tr>\n",
       "    <tr>\n",
       "      <th>5184</th>\n",
       "      <td>65875</td>\n",
       "      <td>2021-09-21 09:10:55</td>\n",
       "      <td>2021-09-21 09:10:55</td>\n",
       "      <td>2021-10-12 14:54:53</td>\n",
       "      <td></td>\n",
       "      <td>4d82f76c-3073-11ec-861d-0270ee4ad24a</td>\n",
       "      <td>7f870a28-142f-11ec-86a7-02ff1f7ba654</td>\n",
       "      <td>aeb0d50d-1abb-11ec-916b-0a73dbc7f556</td>\n",
       "      <td>4001bf56-0981-11ec-993f-02f92df357c4</td>\n",
       "      <td>2021-09-21 09:10:55</td>\n",
       "      <td>...</td>\n",
       "      <td>0.0</td>\n",
       "      <td>0</td>\n",
       "      <td></td>\n",
       "      <td>2061.9</td>\n",
       "      <td></td>\n",
       "      <td>0.0</td>\n",
       "      <td>None</td>\n",
       "      <td>None</td>\n",
       "      <td>0</td>\n",
       "      <td>2021-09-21 09:09:53</td>\n",
       "    </tr>\n",
       "    <tr>\n",
       "      <th>5185</th>\n",
       "      <td>65876</td>\n",
       "      <td>2021-10-12 14:54:53</td>\n",
       "      <td>2021-10-12 14:54:53</td>\n",
       "      <td>2021-11-30 15:53:45</td>\n",
       "      <td></td>\n",
       "      <td>4d82f76c-3073-11ec-861d-0270ee4ad24a</td>\n",
       "      <td>7f870a28-142f-11ec-86a7-02ff1f7ba654</td>\n",
       "      <td>aeb0d50d-1abb-11ec-916b-0a73dbc7f556</td>\n",
       "      <td>4001bf56-0981-11ec-993f-02f92df357c4</td>\n",
       "      <td>2021-09-21 09:10:55</td>\n",
       "      <td>...</td>\n",
       "      <td>0.0</td>\n",
       "      <td>0</td>\n",
       "      <td></td>\n",
       "      <td>2061.9</td>\n",
       "      <td></td>\n",
       "      <td>0.0</td>\n",
       "      <td>None</td>\n",
       "      <td>None</td>\n",
       "      <td>0</td>\n",
       "      <td>2021-09-21 09:09:53</td>\n",
       "    </tr>\n",
       "    <tr>\n",
       "      <th>5186</th>\n",
       "      <td>67752</td>\n",
       "      <td>2021-11-30 15:53:45</td>\n",
       "      <td>2021-11-30 15:53:45</td>\n",
       "      <td>NaT</td>\n",
       "      <td></td>\n",
       "      <td>4d82f76c-3073-11ec-861d-0270ee4ad24a</td>\n",
       "      <td>7f870a28-142f-11ec-86a7-02ff1f7ba654</td>\n",
       "      <td>aeb0d50d-1abb-11ec-916b-0a73dbc7f556</td>\n",
       "      <td>4001bf56-0981-11ec-993f-02f92df357c4</td>\n",
       "      <td>2021-09-21 09:10:55</td>\n",
       "      <td>...</td>\n",
       "      <td>0.0</td>\n",
       "      <td>0</td>\n",
       "      <td></td>\n",
       "      <td>2061.9</td>\n",
       "      <td></td>\n",
       "      <td>0.0</td>\n",
       "      <td>None</td>\n",
       "      <td>None</td>\n",
       "      <td>0</td>\n",
       "      <td>2021-09-21 09:09:53</td>\n",
       "    </tr>\n",
       "  </tbody>\n",
       "</table>\n",
       "<p>5187 rows × 84 columns</p>\n",
       "</div>"
      ],
      "text/plain": [
       "         id        created_at_x        updated_at_x        deleted_at_x  \\\n",
       "0     62125 2021-05-13 08:05:37 2021-05-13 08:05:37 2021-05-13 08:05:39   \n",
       "1     62126 2021-05-13 08:05:39 2021-05-13 08:05:39 2021-05-13 08:05:49   \n",
       "2     62127 2021-05-13 08:05:49 2021-05-13 08:05:49 2021-05-13 15:03:51   \n",
       "3     62128 2021-05-13 15:03:51 2021-05-13 15:03:51                 NaT   \n",
       "4     63375 2021-05-24 13:59:19 2021-05-24 13:59:19 2021-05-24 13:59:21   \n",
       "...     ...                 ...                 ...                 ...   \n",
       "5182  65873 2021-09-21 09:09:55 2021-09-21 09:09:55 2021-09-21 09:10:54   \n",
       "5183  65874 2021-09-21 09:10:54 2021-09-21 09:10:54 2021-09-21 09:10:55   \n",
       "5184  65875 2021-09-21 09:10:55 2021-09-21 09:10:55 2021-10-12 14:54:53   \n",
       "5185  65876 2021-10-12 14:54:53 2021-10-12 14:54:53 2021-11-30 15:53:45   \n",
       "5186  67752 2021-11-30 15:53:45 2021-11-30 15:53:45                 NaT   \n",
       "\n",
       "     creator_id                            service_id  \\\n",
       "0                4d82f76c-3073-11ec-861d-0270ee4ad24a   \n",
       "1                4d82f76c-3073-11ec-861d-0270ee4ad24a   \n",
       "2                4d82f76c-3073-11ec-861d-0270ee4ad24a   \n",
       "3                4d82f76c-3073-11ec-861d-0270ee4ad24a   \n",
       "4                4d82f76c-3073-11ec-861d-0270ee4ad24a   \n",
       "...         ...                                   ...   \n",
       "5182             4d82f76c-3073-11ec-861d-0270ee4ad24a   \n",
       "5183             4d82f76c-3073-11ec-861d-0270ee4ad24a   \n",
       "5184             4d82f76c-3073-11ec-861d-0270ee4ad24a   \n",
       "5185             4d82f76c-3073-11ec-861d-0270ee4ad24a   \n",
       "5186             4d82f76c-3073-11ec-861d-0270ee4ad24a   \n",
       "\n",
       "                               provider_id  \\\n",
       "0     7f87000d-142f-11ec-86a7-02ff1f7ba654   \n",
       "1     7f87000d-142f-11ec-86a7-02ff1f7ba654   \n",
       "2     7f87000d-142f-11ec-86a7-02ff1f7ba654   \n",
       "3     7f87000d-142f-11ec-86a7-02ff1f7ba654   \n",
       "4     7f87000d-142f-11ec-86a7-02ff1f7ba654   \n",
       "...                                    ...   \n",
       "5182  7f870a28-142f-11ec-86a7-02ff1f7ba654   \n",
       "5183  7f870a28-142f-11ec-86a7-02ff1f7ba654   \n",
       "5184  7f870a28-142f-11ec-86a7-02ff1f7ba654   \n",
       "5185  7f870a28-142f-11ec-86a7-02ff1f7ba654   \n",
       "5186  7f870a28-142f-11ec-86a7-02ff1f7ba654   \n",
       "\n",
       "                            reservation_id  \\\n",
       "0     004ccff9-b3c2-11eb-857a-0a73dbc7f556   \n",
       "1     004ccff9-b3c2-11eb-857a-0a73dbc7f556   \n",
       "2     004ccff9-b3c2-11eb-857a-0a73dbc7f556   \n",
       "3     004ccff9-b3c2-11eb-857a-0a73dbc7f556   \n",
       "4     3c0e1515-bc98-11eb-857a-0a73dbc7f556   \n",
       "...                                    ...   \n",
       "5182  aeb0d50d-1abb-11ec-916b-0a73dbc7f556   \n",
       "5183  aeb0d50d-1abb-11ec-916b-0a73dbc7f556   \n",
       "5184  aeb0d50d-1abb-11ec-916b-0a73dbc7f556   \n",
       "5185  aeb0d50d-1abb-11ec-916b-0a73dbc7f556   \n",
       "5186  aeb0d50d-1abb-11ec-916b-0a73dbc7f556   \n",
       "\n",
       "                                product_id reservation_start_time_x  ...  \\\n",
       "0     16bdb534-9913-11eb-a891-0a73dbc7f556      2021-05-13 08:10:00  ...   \n",
       "1     16bdb534-9913-11eb-a891-0a73dbc7f556      2021-05-13 08:10:00  ...   \n",
       "2     16bdb534-9913-11eb-a891-0a73dbc7f556      2021-05-13 08:05:49  ...   \n",
       "3     16bdb534-9913-11eb-a891-0a73dbc7f556      2021-05-13 08:05:49  ...   \n",
       "4     16bdb534-9913-11eb-a891-0a73dbc7f556      2021-05-24 16:00:00  ...   \n",
       "...                                    ...                      ...  ...   \n",
       "5182  4001bf56-0981-11ec-993f-02f92df357c4      2021-09-21 09:10:00  ...   \n",
       "5183  4001bf56-0981-11ec-993f-02f92df357c4      2021-09-21 09:10:00  ...   \n",
       "5184  4001bf56-0981-11ec-993f-02f92df357c4      2021-09-21 09:10:55  ...   \n",
       "5185  4001bf56-0981-11ec-993f-02f92df357c4      2021-09-21 09:10:55  ...   \n",
       "5186  4001bf56-0981-11ec-993f-02f92df357c4      2021-09-21 09:10:55  ...   \n",
       "\n",
       "     installment_payment_pay installment_payment_iterations  \\\n",
       "0                        0.0                              0   \n",
       "1                        0.0                              0   \n",
       "2                        0.0                              0   \n",
       "3                        0.0                              0   \n",
       "4                        0.0                              0   \n",
       "...                      ...                            ...   \n",
       "5182                     0.0                              0   \n",
       "5183                     0.0                              0   \n",
       "5184                     0.0                              0   \n",
       "5185                     0.0                              0   \n",
       "5186                     0.0                              0   \n",
       "\n",
       "      installment_payment_productname installment_payment_rental_fee  \\\n",
       "0                                None                           30.0   \n",
       "1                                None                           30.0   \n",
       "2                                None                           30.0   \n",
       "3                                None                           30.0   \n",
       "4                                None                           60.0   \n",
       "...                               ...                            ...   \n",
       "5182                                                          2061.9   \n",
       "5183                                                          2061.9   \n",
       "5184                                                          2061.9   \n",
       "5185                                                          2061.9   \n",
       "5186                                                          2061.9   \n",
       "\n",
       "     enroll_status charge_changed_yn old_reservation_id old_reservation_key  \\\n",
       "0             None               NaN               None                None   \n",
       "1             None               NaN               None                None   \n",
       "2             None               NaN               None                None   \n",
       "3             None               NaN               None                None   \n",
       "4             None               NaN               None                None   \n",
       "...            ...               ...                ...                 ...   \n",
       "5182                             0.0               None                None   \n",
       "5183                             0.0               None                None   \n",
       "5184                             0.0               None                None   \n",
       "5185                             0.0               None                None   \n",
       "5186                             0.0               None                None   \n",
       "\n",
       "     stripe_success_yn       reservated_at  \n",
       "0                    1 2021-05-13 08:05:37  \n",
       "1                    1 2021-05-13 08:05:37  \n",
       "2                    1 2021-05-13 08:05:37  \n",
       "3                    1 2021-05-13 08:05:37  \n",
       "4                    1 2021-05-24 13:59:19  \n",
       "...                ...                 ...  \n",
       "5182                 0 2021-09-21 09:09:53  \n",
       "5183                 0 2021-09-21 09:09:53  \n",
       "5184                 0 2021-09-21 09:09:53  \n",
       "5185                 0 2021-09-21 09:09:53  \n",
       "5186                 0 2021-09-21 09:09:53  \n",
       "\n",
       "[5187 rows x 84 columns]"
      ]
     },
     "execution_count": 53,
     "metadata": {},
     "output_type": "execute_result"
    }
   ],
   "source": [
    "regist_type_stat"
   ]
  },
  {
   "cell_type": "code",
   "execution_count": 55,
   "metadata": {},
   "outputs": [],
   "source": [
    "#where 절\n",
    "regist_type_stat = regist_type_stat[regist_type_stat['deleted_at_x'].isna()]\n",
    "regist_type_stat = regist_type_stat[regist_type_stat['reservation_status_x'].isin(('CONFIRMED', 'INUSE', 'RETURNED'))]\n",
    "regist_type_stat = regist_type_stat[regist_type_stat['reservated_at'] >= datetime.datetime.strptime('2020-09-20 22:00:00','%Y-%m-%d %H:%M:%S')]\n",
    "regist_type_stat = regist_type_stat[regist_type_stat['reservated_at'] <= datetime.datetime.strptime(end_date,'%Y-%m-%d %H:%M:%S')]\n",
    "\n"
   ]
  },
  {
   "cell_type": "code",
   "execution_count": 57,
   "metadata": {},
   "outputs": [
    {
     "data": {
      "text/html": [
       "<div>\n",
       "<style scoped>\n",
       "    .dataframe tbody tr th:only-of-type {\n",
       "        vertical-align: middle;\n",
       "    }\n",
       "\n",
       "    .dataframe tbody tr th {\n",
       "        vertical-align: top;\n",
       "    }\n",
       "\n",
       "    .dataframe thead th {\n",
       "        text-align: right;\n",
       "    }\n",
       "</style>\n",
       "<table border=\"1\" class=\"dataframe\">\n",
       "  <thead>\n",
       "    <tr style=\"text-align: right;\">\n",
       "      <th></th>\n",
       "      <th>reservation_id</th>\n",
       "      <th>reservated_at</th>\n",
       "    </tr>\n",
       "    <tr>\n",
       "      <th>reservation_regist_type</th>\n",
       "      <th></th>\n",
       "      <th></th>\n",
       "    </tr>\n",
       "  </thead>\n",
       "  <tbody>\n",
       "    <tr>\n",
       "      <th>B2B</th>\n",
       "      <td>15</td>\n",
       "      <td>15</td>\n",
       "    </tr>\n",
       "    <tr>\n",
       "      <th>COURTESY_CAR</th>\n",
       "      <td>86</td>\n",
       "      <td>86</td>\n",
       "    </tr>\n",
       "    <tr>\n",
       "      <th>OTHERS</th>\n",
       "      <td>193</td>\n",
       "      <td>193</td>\n",
       "    </tr>\n",
       "    <tr>\n",
       "      <th>PRIVATE</th>\n",
       "      <td>356</td>\n",
       "      <td>356</td>\n",
       "    </tr>\n",
       "    <tr>\n",
       "      <th>TEST_DRIVE</th>\n",
       "      <td>2</td>\n",
       "      <td>2</td>\n",
       "    </tr>\n",
       "    <tr>\n",
       "      <th>UNKNOWN_RESERVATION_REGIST_TYPE</th>\n",
       "      <td>195</td>\n",
       "      <td>195</td>\n",
       "    </tr>\n",
       "  </tbody>\n",
       "</table>\n",
       "</div>"
      ],
      "text/plain": [
       "                                 reservation_id  reservated_at\n",
       "reservation_regist_type                                       \n",
       "B2B                                          15             15\n",
       "COURTESY_CAR                                 86             86\n",
       "OTHERS                                      193            193\n",
       "PRIVATE                                     356            356\n",
       "TEST_DRIVE                                    2              2\n",
       "UNKNOWN_RESERVATION_REGIST_TYPE             195            195"
      ]
     },
     "execution_count": 57,
     "metadata": {},
     "output_type": "execute_result"
    }
   ],
   "source": [
    "regist_type_stat[[\"reservation_id\",\"reservation_regist_type\",\"reservated_at\"]].groupby('reservation_regist_type').count()"
   ]
  },
  {
   "cell_type": "markdown",
   "metadata": {},
   "source": [
    "# 가동률은"
   ]
  },
  {
   "cell_type": "code",
   "execution_count": 53,
   "metadata": {},
   "outputs": [
    {
     "name": "stdout",
     "output_type": "stream",
     "text": [
      "----------------------------\n",
      "가동률\n"
     ]
    }
   ],
   "source": [
    "print('--------------------------------------------------------')\n",
    "print(\"가동률\")\n",
    "activations = reservations[reservations['reservation_end_time'] >= reservations['reservation_start_time']]\n",
    "activations = activations[activations['reservation_status'].isin(('CONFIRMED', 'INUSE', 'RETURNED'))]\n",
    "activations = activations[activations[\"deleted_at\"].isna()]                           \n",
    "activations = activations[activations['reservation_start_time'] <= datetime.datetime.strptime(end_date,'%Y-%m-%d %H:%M:%S')]\n",
    "activations = activations[activations['reservation_end_time'] >= datetime.datetime.strptime(start_date,'%Y-%m-%d %H:%M:%S')]\n"
   ]
  },
  {
   "cell_type": "code",
   "execution_count": 54,
   "metadata": {},
   "outputs": [
    {
     "name": "stderr",
     "output_type": "stream",
     "text": [
      "C:\\Users\\E681013\\Anaconda3\\lib\\site-packages\\pandas\\core\\indexing.py:670: SettingWithCopyWarning: \n",
      "A value is trying to be set on a copy of a slice from a DataFrame\n",
      "\n",
      "See the caveats in the documentation: https://pandas.pydata.org/pandas-docs/stable/user_guide/indexing.html#returning-a-view-versus-a-copy\n",
      "  iloc._setitem_with_indexer(indexer, value)\n"
     ]
    },
    {
     "data": {
      "text/html": [
       "<div>\n",
       "<style scoped>\n",
       "    .dataframe tbody tr th:only-of-type {\n",
       "        vertical-align: middle;\n",
       "    }\n",
       "\n",
       "    .dataframe tbody tr th {\n",
       "        vertical-align: top;\n",
       "    }\n",
       "\n",
       "    .dataframe thead th {\n",
       "        text-align: right;\n",
       "    }\n",
       "</style>\n",
       "<table border=\"1\" class=\"dataframe\">\n",
       "  <thead>\n",
       "    <tr style=\"text-align: right;\">\n",
       "      <th></th>\n",
       "      <th>총 예약일 수</th>\n",
       "    </tr>\n",
       "  </thead>\n",
       "  <tbody>\n",
       "    <tr>\n",
       "      <th>0</th>\n",
       "      <td>150</td>\n",
       "    </tr>\n",
       "  </tbody>\n",
       "</table>\n",
       "</div>"
      ],
      "text/plain": [
       "   총 예약일 수\n",
       "0      150"
      ]
     },
     "execution_count": 54,
     "metadata": {},
     "output_type": "execute_result"
    }
   ],
   "source": [
    "activations['activations_start'] = ''\n",
    "activations['activations_end'] = ''\n",
    "for i in range(len(activations['reservation_start_time'])):\n",
    "    if activations['reservation_start_time'].iloc[i]<= datetime.datetime.strptime(start_date,'%Y-%m-%d %H:%M:%S'):\n",
    "        activations['activations_start'].iloc[i] = datetime.datetime.strptime(start_date,'%Y-%m-%d %H:%M:%S')\n",
    "    else: \n",
    "        activations['activations_start'].iloc[i] = activations['reservation_start_time'].iloc[i]\n",
    "        \n",
    "    if activations['reservation_end_time'].iloc[i] > datetime.datetime.strptime(end_date,'%Y-%m-%d %H:%M:%S'):\n",
    "        activations['activations_end'].iloc[i] = datetime.datetime.strptime(end_date,'%Y-%m-%d %H:%M:%S')\n",
    "    else: \n",
    "        activations['activations_end'].iloc[i] = activations['reservation_end_time'].iloc[i]\n",
    "        \n",
    "        \n",
    "activations.activations_start = pd.to_datetime(activations.activations_start)\n",
    "activations.activations_end  = pd.to_datetime(activations.activations_end)\n",
    "activations[\"rental days\"]= (activations.activations_end - activations.activations_start).dt.days + 1\n",
    "activation_calculate = pd.DataFrame({\n",
    "    \"총 예약일 수\" : [activations[\"rental days\"].sum()],\n",
    "})\n",
    "activation_calculate"
   ]
  },
  {
   "cell_type": "code",
   "execution_count": null,
   "metadata": {},
   "outputs": [],
   "source": []
  },
  {
   "cell_type": "markdown",
   "metadata": {},
   "source": [
    "# 파일로"
   ]
  },
  {
   "cell_type": "code",
   "execution_count": 46,
   "metadata": {},
   "outputs": [
    {
     "name": "stdout",
     "output_type": "stream",
     "text": [
      "extracting data to excel\n"
     ]
    }
   ],
   "source": [
    "print(\"========================== data processing end extracting to excel file ==========================\")\n",
    "print(\"extracting data to excel\")\n",
    "today = strftime(\"%Y-%m-%d\", gmtime())\n",
    "name = \"주1회 보고용 통계 \" + today\n",
    "\n",
    "writer = pd.ExcelWriter(name+\".xlsx\", engine = 'xlsxwriter')\n",
    "df.to_excel(writer, sheet_name=\"day_stat_reservation_count\")\n",
    "vehicle_stat_reservation_count2_group.sum().to_excel(writer, sheet_name=\"차종별 등록 현황\")\n",
    "country_vehicle[['country_name', 'vehicle_model_name_y','id_x']].groupby(['country_name', 'vehicle_model_name_y']).count().to_excel(writer, sheet_name=\"차량 등록 현황\")\n",
    "country_vehicle[['country_name', 'name_x','created_at_x','name_y','created_at_y','id_x']].groupby(['country_name', 'name_x','created_at_x','name_y','created_at_y']).count().to_excel(writer, sheet_name=\"차량 등록 현황2\")\n",
    "mp_reservations[[\"on_off\",\"reservation_id\"]].groupby('on_off').count().to_excel(writer, sheet_name=\"mp_on_off\")\n",
    "regist_type_stat[[\"reservation_id\",\"reservation_regist_type\",\"reservated_at\"]].groupby('reservation_regist_type').count().to_excel(writer, sheet_name=\"regist_type\")\n",
    "activation_calculate.to_excel(writer, sheet_name=\"가동률 예약일 수\")\n",
    "\n",
    "writer.save()\n",
    "writer.close()"
   ]
  },
  {
   "cell_type": "code",
   "execution_count": null,
   "metadata": {},
   "outputs": [],
   "source": []
  }
 ],
 "metadata": {
  "celltoolbar": "Attachments",
  "kernelspec": {
   "display_name": "Python 3",
   "language": "python",
   "name": "python3"
  },
  "language_info": {
   "codemirror_mode": {
    "name": "ipython",
    "version": 3
   },
   "file_extension": ".py",
   "mimetype": "text/x-python",
   "name": "python",
   "nbconvert_exporter": "python",
   "pygments_lexer": "ipython3",
   "version": "3.8.5"
  }
 },
 "nbformat": 4,
 "nbformat_minor": 4
}
